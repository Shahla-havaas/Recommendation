{
 "cells": [
  {
   "cell_type": "code",
   "execution_count": 1,
   "id": "b6c7bb59",
   "metadata": {},
   "outputs": [],
   "source": [
    "import matplotlib.pyplot as plt\n",
    "import networkx as nx\n",
    "import pandas as pd\n",
    "import numpy as np\n",
    "from math import *\n",
    "import time\n",
    "from numpy import asarray\n",
    "from numpy import savetxt\n",
    "from numpy import asarray\n",
    "from numpy import save\n",
    "from operator import itemgetter\n",
    "from numpy import load\n",
    "from random import randrange\n",
    "from collections import defaultdict\n",
    "import math\n",
    "import random"
   ]
  },
  {
   "cell_type": "code",
   "execution_count": 4,
   "id": "365be2e5",
   "metadata": {},
   "outputs": [
    {
     "name": "stdout",
     "output_type": "stream",
     "text": [
      "       movieId                               title  \\\n",
      "0            1                    Toy Story (1995)   \n",
      "1            2                      Jumanji (1995)   \n",
      "2            3             Grumpier Old Men (1995)   \n",
      "3            4            Waiting to Exhale (1995)   \n",
      "4            5  Father of the Bride Part II (1995)   \n",
      "...        ...                                 ...   \n",
      "62418   209157                           We (2018)   \n",
      "62419   209159           Window of the Soul (2001)   \n",
      "62420   209163                    Bad Poems (2018)   \n",
      "62421   209169                 A Girl Thing (2001)   \n",
      "62422   209171      Women of Devil's Island (1962)   \n",
      "\n",
      "                                            genres  \n",
      "0      Adventure|Animation|Children|Comedy|Fantasy  \n",
      "1                       Adventure|Children|Fantasy  \n",
      "2                                   Comedy|Romance  \n",
      "3                             Comedy|Drama|Romance  \n",
      "4                                           Comedy  \n",
      "...                                            ...  \n",
      "62418                                        Drama  \n",
      "62419                                  Documentary  \n",
      "62420                                 Comedy|Drama  \n",
      "62421                           (no genres listed)  \n",
      "62422                       Action|Adventure|Drama  \n",
      "\n",
      "[62423 rows x 3 columns]\n",
      "         userId  movieId  rating  timestamp\n",
      "0             1     1193       5  978300760\n",
      "1             1      661       3  978302109\n",
      "2             1      914       3  978301968\n",
      "3             1     3408       4  978300275\n",
      "4             1     2355       5  978824291\n",
      "...         ...      ...     ...        ...\n",
      "1000204    6040     1091       1  956716541\n",
      "1000205    6040     1094       5  956704887\n",
      "1000206    6040      562       5  956704746\n",
      "1000207    6040     1096       4  956715648\n",
      "1000208    6040     1097       4  956715569\n",
      "\n",
      "[1000209 rows x 4 columns]\n",
      "Number of Users: 6040\n",
      "Number of movies: 3706\n",
      "max user id= 6040\n",
      "max movie id= 3952\n"
     ]
    }
   ],
   "source": [
    "ratings=pd.read_csv('ratings1mg.csv')\n",
    "movies=pd.read_csv('movies.csv')\n",
    "print(movies)\n",
    "\n",
    "print(ratings)\n",
    "#ratings=ratings[ratings['userId']<=100]\n",
    "movie_ids = ratings.movieId.unique()\n",
    "user_ids = ratings.userId.unique()\n",
    "print('Number of Users: {}'.format(len(user_ids)))\n",
    "print('Number of movies: {}'.format(len(movie_ids)))\n",
    "max_userid=max(user_ids)\n",
    "print(\"max user id=\",max_userid)\n",
    "max_movieid=max(movie_ids)\n",
    "print(\"max movie id=\",max_movieid)\n",
    "n_users=len(user_ids)\n",
    "n_items= len(movie_ids)\n"
   ]
  },
  {
   "cell_type": "code",
   "execution_count": 5,
   "id": "8e8895a5",
   "metadata": {},
   "outputs": [
    {
     "data": {
      "text/plain": [
       "701"
      ]
     },
     "execution_count": 5,
     "metadata": {},
     "output_type": "execute_result"
    }
   ],
   "source": [
    "def get_degree_item(item):\n",
    "    r=len(ratings[ratings['movieId']==item])\n",
    "    return r\n",
    "get_degree_item(2)"
   ]
  },
  {
   "cell_type": "code",
   "execution_count": 6,
   "id": "e3c15585",
   "metadata": {},
   "outputs": [
    {
     "data": {
      "text/plain": [
       "43"
      ]
     },
     "execution_count": 6,
     "metadata": {},
     "output_type": "execute_result"
    }
   ],
   "source": [
    "def get_degree_user(user):\n",
    "    r=len(ratings[ratings['userId']==user])\n",
    "    return r\n",
    "get_degree_user(50)"
   ]
  },
  {
   "cell_type": "code",
   "execution_count": 7,
   "id": "77bf234f",
   "metadata": {},
   "outputs": [
    {
     "name": "stdout",
     "output_type": "stream",
     "text": [
      "269.88909875876953\n",
      "3428\n",
      "1\n"
     ]
    }
   ],
   "source": [
    "def get_average_degree_allitems():\n",
    "    deg_list=[]\n",
    "    for i in movie_ids:\n",
    "        deg=get_degree_item(i)\n",
    "        deg_list.append(deg)\n",
    "    print((sum(deg_list))/len(deg_list))\n",
    "    print(max(deg_list))\n",
    "    print(min(deg_list))\n",
    "get_average_degree_allitems()"
   ]
  },
  {
   "cell_type": "code",
   "execution_count": 7,
   "id": "8c4d8d8b",
   "metadata": {},
   "outputs": [
    {
     "name": "stdout",
     "output_type": "stream",
     "text": [
      "165.5975165562914\n",
      "2314\n",
      "20\n"
     ]
    }
   ],
   "source": [
    "def get_average_degree_allusers():\n",
    "    deg_list=[]\n",
    "    for i in user_ids:\n",
    "        deg=get_degree_user(i)\n",
    "        deg_list.append(deg)\n",
    "    print((sum(deg_list))/len(deg_list))\n",
    "    print(max(deg_list))\n",
    "    print(min(deg_list))\n",
    "get_average_degree_allusers()"
   ]
  },
  {
   "cell_type": "code",
   "execution_count": 8,
   "id": "d2293c0b",
   "metadata": {},
   "outputs": [
    {
     "name": "stdout",
     "output_type": "stream",
     "text": [
      "797\n",
      "2246\n",
      "663\n"
     ]
    }
   ],
   "source": [
    "def create_classification_items():\n",
    "    short_head_item=[]\n",
    "    medum_tail=[]\n",
    "    distict_tail=[]\n",
    "    for i in movie_ids:\n",
    "        deg=get_degree_item(i)\n",
    "        if deg>=400:\n",
    "            short_head_item.append(i)\n",
    "        elif deg>=20:\n",
    "            medum_tail.append(i)\n",
    "        elif deg<20:\n",
    "            distict_tail.append(i)\n",
    "    return short_head_item,medum_tail,distict_tail\n",
    "            \n",
    "short_head_ids,medum_tail_ids,distict_tail =create_classification_items()           \n",
    "print(len(short_head_ids))\n",
    "print(len(medum_tail_ids))\n",
    "print(len(distict_tail))"
   ]
  },
  {
   "cell_type": "code",
   "execution_count": 9,
   "id": "c8106b0f",
   "metadata": {},
   "outputs": [
    {
     "name": "stdout",
     "output_type": "stream",
     "text": [
      "965\n",
      "3332\n",
      "1743\n"
     ]
    }
   ],
   "source": [
    "def create_classification_users():\n",
    "    heavy_users=[]\n",
    "    cold_start_users=[]\n",
    "    medium_users=[]\n",
    "    for u in user_ids:\n",
    "        deg=get_degree_user(u)\n",
    "        if deg>=300:\n",
    "            heavy_users.append(u)\n",
    "        elif deg>=50:\n",
    "            medium_users.append(u)\n",
    "        elif deg<50:\n",
    "            cold_start_users.append(u)\n",
    "        else:\n",
    "            print(u)\n",
    "    return heavy_users,medium_users,cold_start_users\n",
    "            \n",
    "heavy_users_ids,medum_users_ids,cold_start_users_ids =create_classification_users()           \n",
    "print(len(heavy_users_ids))\n",
    "print(len(medum_users_ids))\n",
    "print(len(cold_start_users_ids))"
   ]
  },
  {
   "cell_type": "code",
   "execution_count": 10,
   "id": "81f6cf97",
   "metadata": {},
   "outputs": [],
   "source": [
    "savetxt('short_head_ids.csv', short_head_ids, delimiter=',')\n",
    "# save to npy file\n",
    "save('short_head_ids.npy', short_head_ids)\n",
    "\n",
    "savetxt('medum_tail_ids.csv', medum_tail_ids, delimiter=',')\n",
    "# save to npy file\n",
    "save('medum_tail_ids.npy', medum_tail_ids)\n",
    "savetxt('distict_tail.csv', distict_tail, delimiter=',')\n",
    "# save to npy file\n",
    "save('distict_tail.npy', distict_tail)"
   ]
  },
  {
   "cell_type": "code",
   "execution_count": 11,
   "id": "feb88a77",
   "metadata": {},
   "outputs": [],
   "source": [
    "savetxt('heavy_users_ids.csv', heavy_users_ids, delimiter=',')\n",
    "# save to npy file\n",
    "save('heavy_users_ids.npy', heavy_users_ids)\n",
    "\n",
    "savetxt('medum_users_ids.csv', medum_users_ids, delimiter=',')\n",
    "# save to npy file\n",
    "save('medum_users_ids.npy', medum_users_ids)\n",
    "savetxt('cold_start_users_ids.csv', cold_start_users_ids, delimiter=',')\n",
    "# save to npy file\n",
    "save('cold_start_users_ids.npy', cold_start_users_ids)"
   ]
  },
  {
   "cell_type": "code",
   "execution_count": 8,
   "id": "588caff4",
   "metadata": {},
   "outputs": [
    {
     "name": "stdout",
     "output_type": "stream",
     "text": [
      "663\n",
      "2246\n",
      "797\n"
     ]
    }
   ],
   "source": [
    "short_head_data = load('short_head_ids.npy')\n",
    "medum_tail_data = load('medum_tail_ids.npy')\n",
    "distict_tail_data = load('distict_tail.npy')\n",
    "print(len(distict_tail_data))\n",
    "print(len(medum_tail_data))\n",
    "print(len(short_head_data))\n"
   ]
  },
  {
   "cell_type": "code",
   "execution_count": 9,
   "id": "62c1c86f",
   "metadata": {},
   "outputs": [
    {
     "name": "stdout",
     "output_type": "stream",
     "text": [
      "heavy= [  10   18   23   26   33   36   48   53   58   62   92  117  123  136\n",
      "  146  148  149  151  157  163  166  169  173  175  181  187  192  195\n",
      "  198  199  202  204  216  225  235  245  261  264  271  272  284  293\n",
      "  301  302  308  319  326  329  331  338  352  355  368  392  411  412\n",
      "  424  429  438  442  453  461  474  476  482  509  520  524  528  531\n",
      "  533  543  549  550  563  566  587  588  601  624  631  637  639  651\n",
      "  655  660  669  673  676  678  687  692  696  699  702  710  714  716\n",
      "  721  731  735  746  749  752  757  765  770  777  780  791  796  798\n",
      "  802  817  824  839  850  854  855  869  877  881  889  899  911  919\n",
      "  922  929  934  935  937  948  949  955  957  963  970  975  984  999\n",
      " 1001 1004 1010 1015 1017 1019 1034 1050 1051 1053 1058 1059 1068 1069\n",
      " 1077 1086 1087 1088 1100 1101 1112 1113 1117 1119 1120 1124 1125 1128\n",
      " 1137 1140 1141 1146 1147 1150 1151 1164 1172 1173 1181 1182 1194 1202\n",
      " 1203 1207 1211 1224 1242 1243 1244 1246 1260 1264 1265 1266 1273 1274\n",
      " 1279 1284 1285 1297 1298 1303 1306 1317 1322 1329 1333 1335 1340 1354\n",
      " 1356 1369 1377 1383 1389 1390 1395 1404 1422 1425 1426 1447 1448 1449\n",
      " 1451 1457 1465 1470 1484 1489 1496 1501 1505 1530 1546 1556 1579 1584\n",
      " 1586 1587 1591 1592 1599 1600 1605 1609 1611 1613 1624 1628 1632 1635\n",
      " 1639 1645 1647 1658 1666 1667 1671 1675 1676 1680 1685 1687 1693 1694\n",
      " 1696 1697 1698 1699 1701 1712 1717 1726 1727 1733 1737 1741 1746 1748\n",
      " 1749 1752 1755 1757 1758 1764 1767 1776 1778 1780 1790 1794 1812 1820\n",
      " 1835 1836 1837 1842 1851 1861 1865 1875 1880 1883 1884 1889 1897 1899\n",
      " 1904 1912 1916 1920 1922 1925 1926 1930 1941 1943 1958 1962 1968 1969\n",
      " 1974 1980 1983 1988 1998 2010 2012 2015 2016 2018 2020 2030 2038 2041\n",
      " 2054 2063 2073 2077 2088 2092 2098 2100 2102 2105 2106 2109 2116 2124\n",
      " 2129 2131 2153 2156 2164 2168 2172 2180 2181 2188 2203 2205 2223 2225\n",
      " 2231 2232 2237 2242 2244 2251 2258 2264 2271 2279 2288 2303 2304 2334\n",
      " 2340 2376 2380 2383 2402 2411 2419 2436 2446 2453 2454 2456 2457 2484\n",
      " 2489 2496 2504 2507 2529 2537 2544 2565 2567 2581 2583 2590 2592 2611\n",
      " 2621 2624 2627 2638 2641 2643 2664 2665 2679 2737 2743 2748 2752 2753\n",
      " 2761 2764 2776 2777 2793 2796 2807 2810 2820 2840 2841 2847 2854 2857\n",
      " 2860 2872 2878 2887 2888 2895 2896 2899 2907 2909 2913 2918 2926 2928\n",
      " 2929 2934 2941 2946 2962 2967 2986 2994 2995 2996 3001 3012 3013 3017\n",
      " 3018 3026 3029 3031 3032 3044 3051 3054 3067 3080 3081 3082 3108 3110\n",
      " 3118 3125 3128 3129 3140 3163 3180 3182 3189 3191 3196 3201 3205 3208\n",
      " 3216 3217 3224 3227 3259 3261 3265 3271 3272 3280 3285 3292 3299 3300\n",
      " 3301 3308 3311 3312 3313 3314 3320 3327 3336 3365 3367 3371 3380 3389\n",
      " 3391 3394 3401 3402 3410 3411 3416 3422 3423 3425 3430 3441 3454 3462\n",
      " 3464 3469 3471 3475 3476 3483 3487 3491 3499 3503 3507 3509 3512 3513\n",
      " 3518 3519 3521 3526 3539 3546 3547 3550 3557 3558 3562 3569 3576 3589\n",
      " 3590 3592 3600 3603 3610 3618 3620 3621 3624 3626 3641 3648 3650 3669\n",
      " 3675 3679 3681 3683 3685 3688 3690 3691 3693 3695 3705 3709 3713 3715\n",
      " 3716 3724 3726 3727 3729 3735 3746 3751 3754 3756 3760 3762 3768 3769\n",
      " 3771 3773 3778 3780 3792 3807 3808 3816 3821 3823 3824 3825 3829 3833\n",
      " 3834 3836 3841 3842 3847 3850 3853 3859 3878 3884 3885 3887 3892 3900\n",
      " 3916 3929 3934 3940 3942 3945 3957 3963 3967 3971 3985 3992 3993 3997\n",
      " 3998 3999 4001 4007 4009 4016 4021 4022 4026 4028 4033 4041 4042 4048\n",
      " 4049 4053 4054 4055 4058 4062 4064 4079 4083 4085 4086 4088 4089 4107\n",
      " 4112 4115 4116 4122 4124 4126 4139 4140 4150 4156 4161 4167 4169 4183\n",
      " 4186 4213 4217 4224 4227 4238 4250 4253 4258 4260 4268 4271 4277 4279\n",
      " 4285 4303 4305 4312 4318 4322 4328 4335 4344 4345 4352 4354 4373 4375\n",
      " 4379 4381 4386 4387 4388 4404 4406 4408 4411 4418 4422 4425 4446 4447\n",
      " 4448 4458 4470 4472 4473 4478 4480 4482 4488 4489 4490 4497 4502 4506\n",
      " 4508 4510 4517 4523 4535 4543 4562 4568 4578 4579 4585 4591 4593 4607\n",
      " 4611 4626 4635 4637 4647 4653 4655 4658 4663 4666 4673 4675 4680 4682\n",
      " 4704 4708 4715 4725 4728 4732 4736 4748 4771 4784 4786 4788 4790 4796\n",
      " 4802 4808 4816 4819 4823 4829 4837 4867 4879 4884 4887 4897 4904 4918\n",
      " 4928 4932 4933 4948 4950 4951 4957 4958 4964 4972 4979 4981 4995 5000\n",
      " 5005 5011 5015 5026 5039 5042 5046 5047 5054 5070 5074 5077 5090 5091\n",
      " 5100 5103 5107 5108 5111 5112 5113 5131 5140 5142 5153 5156 5161 5163\n",
      " 5172 5182 5184 5205 5220 5222 5249 5256 5268 5269 5271 5273 5277 5282\n",
      " 5289 5306 5312 5317 5319 5329 5333 5345 5359 5364 5365 5367 5371 5387\n",
      " 5394 5397 5428 5433 5443 5448 5450 5458 5468 5472 5475 5482 5492 5493\n",
      " 5501 5504 5511 5517 5519 5522 5523 5530 5536 5539 5543 5550 5555 5567\n",
      " 5568 5570 5580 5605 5614 5615 5621 5627 5634 5636 5643 5650 5667 5675\n",
      " 5682 5684 5686 5689 5698 5717 5720 5722 5728 5738 5744 5747 5749 5754\n",
      " 5755 5759 5763 5767 5779 5786 5787 5788 5795 5811 5812 5824 5831 5837\n",
      " 5841 5847 5848 5852 5854 5878 5880 5886 5888 5890 5916 5948 5950 5954\n",
      " 5955 5961 5964 5972 5978 5996 6000 6002 6007 6010 6016 6036 6040]\n",
      "medium= [   1    2    3 ... 6035 6037 6039]\n",
      "cold= [   4    7   12 ... 6029 6034 6038]\n"
     ]
    }
   ],
   "source": [
    "heavy_users_data = load('heavy_users_ids.npy')\n",
    "medum_users_data = load('medum_users_ids.npy')\n",
    "cold_start_users_data = load('cold_start_users_ids.npy')\n",
    "\n",
    "print(\"heavy=\",heavy_users_data)\n",
    "print(\"medium=\",medum_users_data)\n",
    "print(\"cold=\",cold_start_users_data)"
   ]
  },
  {
   "cell_type": "code",
   "execution_count": 10,
   "id": "7fd281d3",
   "metadata": {},
   "outputs": [],
   "source": [
    "from sklearn.model_selection import train_test_split \n",
    "train_data,test_data= train_test_split(ratings,test_size=0.1)\n"
   ]
  },
  {
   "cell_type": "code",
   "execution_count": 11,
   "id": "fa02a5c1",
   "metadata": {},
   "outputs": [
    {
     "name": "stdout",
     "output_type": "stream",
     "text": [
      "test= ([3468, 1210, 2951, 1214, 1036, 260, 2028, 480, 1196, 1198, 1954, 1097, 3418, 3702, 2366, 1387, 3527, 1201, 2692, 2947, 1240], [5, 3, 4, 4, 4, 5, 5, 4, 2, 5, 5, 4, 4, 4, 4, 5, 1, 5, 5, 5, 5])\n",
      "[1962, 2762, 720, 1836, 2918]\n",
      "ave rating= 4.188679245283019\n"
     ]
    }
   ],
   "source": [
    "def get_rating(userid,movieid):\n",
    "    try:\n",
    "        return (ratings.loc[(ratings.userId==userid) & (ratings.movieId == movieid),'rating'].iloc[0])\n",
    "    except:\n",
    "        return -1\n",
    "# Getting the list of all movie ids the specified user has rated.\n",
    "def get_movieids(userid):\n",
    "    return (ratings.loc[(ratings.userId==userid),'movieId'].tolist())\n",
    "def get_movieids_ratings(userid):\n",
    "    m_id= (ratings.loc[(ratings.userId==userid),'movieId'].tolist())\n",
    "    r= (ratings.loc[(ratings.userId==userid),'rating'].tolist())\n",
    "    return m_id,r\n",
    "print(\"test=\",get_movieids_ratings(4))\n",
    "get_rating(1,919)\n",
    "def get_movieids_test(userid):\n",
    "    return (test_data.loc[(test_data.userId==userid),'movieId'].tolist())\n",
    "print(get_movieids_test(1))\n",
    "def get_average_rating(u):\n",
    "    r_list=ratings.loc[(ratings.userId==u),'rating'].tolist()\n",
    "    return sum(r_list)/len(r_list)\n",
    "print(\"ave rating=\",get_average_rating(1))"
   ]
  },
  {
   "cell_type": "code",
   "execution_count": 12,
   "id": "e724997d",
   "metadata": {},
   "outputs": [
    {
     "data": {
      "text/plain": [
       "'known'"
      ]
     },
     "execution_count": 12,
     "metadata": {},
     "output_type": "execute_result"
    }
   ],
   "source": [
    "def get_genre(movieid):\n",
    "    try:\n",
    "        return (movies.loc[(movies.movieId==movieid),'genres'].iloc[0]).split('|')\n",
    "    except:\n",
    "        return \"known\"\n",
    "g=get_genre(91)\n",
    "g"
   ]
  },
  {
   "cell_type": "code",
   "execution_count": 13,
   "id": "18354c35",
   "metadata": {},
   "outputs": [
    {
     "data": {
      "text/plain": [
       "'1995'"
      ]
     },
     "execution_count": 13,
     "metadata": {},
     "output_type": "execute_result"
    }
   ],
   "source": [
    "def get_year(movieid):\n",
    "    try:\n",
    "        y=(movies.loc[(movies.movieId==movieid),'title'].iloc[0])\n",
    "        i=y.index('(')\n",
    "        year=y[i+1:len(y)-1]\n",
    "        return year\n",
    "    except:\n",
    "        return 0\n",
    "y=get_year(2)\n",
    "y"
   ]
  },
  {
   "cell_type": "code",
   "execution_count": 14,
   "id": "2c952db5",
   "metadata": {},
   "outputs": [
    {
     "data": {
      "text/plain": [
       "'long_tail'"
      ]
     },
     "execution_count": 14,
     "metadata": {},
     "output_type": "execute_result"
    }
   ],
   "source": [
    "def get_group(item):\n",
    "    if item in short_head_data:\n",
    "        return 'short_head'\n",
    "    elif item in medum_tail_data:\n",
    "        return 'long_tail'\n",
    "    elif item in distict_tail_data:\n",
    "        return 'distict_tail'\n",
    "get_group(956)"
   ]
  },
  {
   "cell_type": "code",
   "execution_count": 15,
   "id": "d2b293bf",
   "metadata": {},
   "outputs": [
    {
     "data": {
      "text/plain": [
       "0.6"
      ]
     },
     "execution_count": 15,
     "metadata": {},
     "output_type": "execute_result"
    }
   ],
   "source": [
    "def get_present_common_group(i,j):\n",
    "    common=0.0\n",
    "    g_i=get_genre(i)\n",
    "    y_i=get_year(i)\n",
    "    g_j=get_genre(j)\n",
    "    y_j=get_year(j)\n",
    "    if len(g_i)>len(g_j):\n",
    "        max_j=g_i\n",
    "    else:\n",
    "        max_j=g_j\n",
    "    p=np.intersect1d(g_i, g_j)\n",
    "    if len(p)>0:\n",
    "        common+=len(p)/len(max_j)\n",
    "    if y_i==y_j:\n",
    "        common+=1\n",
    "    return common/2\n",
    "get_present_common_group(1,3)        "
   ]
  },
  {
   "cell_type": "code",
   "execution_count": 16,
   "id": "6d3a8704",
   "metadata": {},
   "outputs": [
    {
     "data": {
      "text/plain": [
       "False"
      ]
     },
     "execution_count": 16,
     "metadata": {},
     "output_type": "execute_result"
    }
   ],
   "source": [
    "def is_equal_group(item1,item2):\n",
    "    g1=get_group(item1)\n",
    "    g2=get_group(item2)\n",
    "    if g1==g2:\n",
    "        return True\n",
    "    else:\n",
    "        return False\n",
    "is_equal_group(1,771)"
   ]
  },
  {
   "cell_type": "code",
   "execution_count": null,
   "id": "f6cd1458",
   "metadata": {},
   "outputs": [],
   "source": [
    "#you need create similarity matrix for all items using train set and save test set for evaluate\n",
    "item_correlation=load('similar_item_matrix.npy')\n",
    "len(item_correlation[1])"
   ]
  },
  {
   "cell_type": "code",
   "execution_count": 19,
   "id": "2464cc5f",
   "metadata": {},
   "outputs": [
    {
     "name": "stdout",
     "output_type": "stream",
     "text": [
      "l= [11, 46, 52, 186, 195, 218, 222, 224, 236, 237, 339, 753]\n"
     ]
    }
   ],
   "source": [
    "def get_simila_grater_teta(item,teta):\n",
    "    all_item=[]\n",
    "    l=item_correlation[item]\n",
    "    #print(l)\n",
    "    for i in range(1,len(l)):\n",
    "        sim=item_correlation[item][i]\n",
    "        if sim>teta and sim!=1:\n",
    "            all_item.append(i)\n",
    "    return all_item\n",
    "l=get_simila_grater_teta(4,0.7)\n",
    "print(\"l=\",l)\n",
    "    "
   ]
  },
  {
   "cell_type": "code",
   "execution_count": 20,
   "id": "b3a257e0",
   "metadata": {},
   "outputs": [],
   "source": [
    "def get_movie_by_score(movie_rate_dict,score):\n",
    "    movie_list=[]\n",
    "    for d in movie_rate_dict.keys():\n",
    "        v=movie_rate_dict[d]\n",
    "        if v== score:\n",
    "            movie_list.append(d)\n",
    "    return movie_list"
   ]
  },
  {
   "cell_type": "code",
   "execution_count": 21,
   "id": "8bb2b6d3",
   "metadata": {},
   "outputs": [
    {
     "name": "stdout",
     "output_type": "stream",
     "text": [
      "test= [1193, 2355, 1287, 2804, 595, 1035, 3105, 1270, 527, 48, 1836, 1022, 150, 1, 1961, 1028, 1029, 2028]\n",
      "[1836]\n",
      "[661, 914, 3408, 1197, 594, 919, 938, 2398, 2918, 2791, 2687, 2018, 2797, 2321, 720, 2340, 1097, 1721, 1545, 745, 2294, 3186, 1566, 588, 1907, 783, 2762, 1962, 2692, 260, 1207, 531, 3114, 608, 1246]\n",
      "test2= [661, 914, 1197, 2687, 2321, 720, 2340, 745]\n"
     ]
    }
   ],
   "source": [
    "def get_user_friendly_movies(u):\n",
    "    user_friendly_movies=[]\n",
    "    average=get_average_rating(u)\n",
    "    actual_movie_rated=get_movieids(u)\n",
    "    for i in actual_movie_rated:\n",
    "        if get_rating(u,i)>=average:\n",
    "            user_friendly_movies.append(i)\n",
    "    return user_friendly_movies\n",
    "get_user_friendly_movies(1)\n",
    "def get_user_friendly_moviesAT10(u):\n",
    "    user_friendly_movies=[]\n",
    "    average=get_average_rating(u)\n",
    "    actual_movie_rated,rates=get_movieids_ratings(u)\n",
    "    dic=dict()\n",
    "    for i in range(len(actual_movie_rated)):\n",
    "        movie=actual_movie_rated[i]\n",
    "        r=rates[i]\n",
    "        dic[movie]=r\n",
    "    score_5_movie=get_movie_by_score(dic,5)\n",
    "    freindly_movies=score_5_movie\n",
    "    if (len(freindly_movies)<10 and average<=4):\n",
    "        score_4_movie=get_movie_by_score(dic,4)\n",
    "        freindly_movies=freindly_movies+score_4_movie\n",
    "    if (len(freindly_movies)<10 and average<=3):\n",
    "        score_3_movie=get_movie_by_score(dic,3)\n",
    "        freindly_movies=freindly_movies+score_3_movie\n",
    "    return freindly_movies\n",
    "\n",
    "print(\"test=\",get_user_friendly_moviesAT10(1))\n",
    "def get_user_friendly_movies_test(u):\n",
    "    user_friendly_movies=[]\n",
    "    average=get_average_rating(u)\n",
    "    actual_movie_rated=get_movieids_test(u)\n",
    "    for i in actual_movie_rated:\n",
    "        if get_rating(u,i)>=average:\n",
    "            user_friendly_movies.append(i)\n",
    "    return user_friendly_movies\n",
    "print(get_user_friendly_movies_test(1))\n",
    "def get_user_Notfriendly_movies(u):\n",
    "    user_notfriendly_movies=[]\n",
    "    average=get_average_rating(u)\n",
    "    actual_movie_rated=get_movieids(u)\n",
    "    for i in actual_movie_rated:\n",
    "        if get_rating(u,i)<average:\n",
    "            user_notfriendly_movies.append(i)\n",
    "    return user_notfriendly_movies\n",
    "print(get_user_Notfriendly_movies(1))\n",
    "\n",
    "def get_user_Notfriendly_moviesAT10(u):\n",
    "    user_notfriendly_movies=[]\n",
    "    average=get_average_rating(u)\n",
    "    actual_movie_rated,rates=get_movieids_ratings(u)\n",
    "    dic=dict()\n",
    "    for i in range(len(actual_movie_rated)):\n",
    "        movie=actual_movie_rated[i]\n",
    "        r=rates[i]\n",
    "        dic[movie]=r\n",
    "    score_1_movie=get_movie_by_score(dic,1)\n",
    "    #print(\"len 1=\",len(score_1_movie))\n",
    "    notfreindly_movies=score_1_movie\n",
    "    if (len(notfreindly_movies)<10 and average>2):\n",
    "        score_2_movie=get_movie_by_score(dic,2)\n",
    "        notfreindly_movies=notfreindly_movies+score_2_movie\n",
    "        #print(\"len 2=\",len(score_2_movie))\n",
    "    if (len(notfreindly_movies)<10 and average>3):\n",
    "        score_3_movie=get_movie_by_score(dic,3)\n",
    "        notfreindly_movies=notfreindly_movies+score_3_movie\n",
    "    return notfreindly_movies\n",
    "print(\"test2=\",get_user_Notfriendly_moviesAT10(1))"
   ]
  },
  {
   "cell_type": "code",
   "execution_count": 22,
   "id": "6ed883de",
   "metadata": {},
   "outputs": [
    {
     "name": "stdout",
     "output_type": "stream",
     "text": [
      "[0, 1, 2, 3, 4, 5, 6, 7, 8, 9, 10, 11, 12, 13, 14, 15, 16, 17, 18, 19, 20, 21, 22, 23, 24, 25, 26, 27, 28, 29, 30, 31, 32, 33, 34, 35, 36, 37, 38, 39, 40, 41, 42, 43, 44, 45, 46, 47, 48, 49, 50, 52, 53, 54, 55, 56, 57, 58, 59, 60, 61, 62, 63, 64, 65, 67, 68, 69, 71, 72, 73, 74, 75, 76, 77, 78, 79, 80, 81, 82, 83, 84, 85, 87, 88, 89, 90, 92, 93, 94, 96, 97, 99, 100, 101, 102, 103, 104, 105, 106, 107, 108, 110, 111, 113, 114, 116, 117, 118, 119, 120, 121, 122, 123, 124, 125, 126, 127, 128, 129, 130, 131, 132, 133, 134, 135, 136, 137, 138, 139, 140, 141, 142, 144, 145, 146, 147, 148, 149, 150, 151, 152, 153, 154, 155, 156, 157, 158, 159, 160, 161, 162, 163, 164, 165, 166, 167, 168, 169, 170, 171, 172, 173, 174, 175, 176, 177, 178, 179, 180, 181, 182, 183, 184, 185, 186, 187, 188, 189, 190, 191, 192, 193, 194, 195, 196, 197, 198, 199, 200, 201, 202, 203, 204, 205, 206, 207, 208, 209, 210, 211, 212, 213, 214, 215, 216, 217, 218, 219, 220, 222, 223, 224, 225, 226, 228, 229, 230, 231, 232, 233, 234, 235, 236, 237, 238, 239, 240, 241, 242, 243, 244, 245, 246, 247, 248, 249, 250, 251, 252, 253, 254, 255, 256, 257, 258, 259, 261, 262, 263, 264, 265, 266, 267, 268, 269, 270, 271, 272, 273, 274, 275, 276, 277, 278, 279, 280, 281, 282, 283, 286, 287, 289, 290, 291, 292, 294, 295, 296, 297, 298, 299, 300, 301, 302, 303, 304, 305, 306, 307, 308, 309, 310, 311, 312, 313, 314, 317, 318, 319, 320, 321, 322, 324, 325, 326, 327, 328, 329, 330, 331, 332, 333, 334, 335, 336, 337, 338, 339, 340, 341, 342, 343, 344, 345, 346, 347, 348, 350, 351, 352, 354, 355, 356, 357, 358, 359, 361, 362, 363, 364, 365, 366, 368, 369, 371, 372, 373, 374, 375, 378, 381, 382, 383, 384, 385, 386, 388, 389, 391, 392, 394, 396, 397, 398, 401, 402, 404, 406, 407, 408, 409, 410, 411, 412, 413, 414, 415, 416, 417, 418, 419, 421, 422, 424, 425, 426, 427, 428, 429, 430, 431, 432, 433, 435, 436, 437, 439, 440, 441, 443, 444, 445, 446, 447, 448, 449, 450, 451, 452, 453, 454, 455, 456, 457, 458, 460, 461, 463, 467, 468, 469, 470, 471, 472, 473, 475, 476, 477, 478, 481, 482, 483, 484, 486, 487, 488, 489, 490, 491, 492, 495, 496, 497, 498, 499, 500, 501, 503, 505, 506, 507, 508, 509, 510, 512, 513, 514, 515, 516, 518, 520, 521, 523, 524, 525, 526, 527, 528, 529, 530, 531, 532, 534, 535, 536, 537, 538, 539, 540, 542, 543, 545, 549, 550, 551, 554, 555, 556, 557, 559, 560, 561, 562, 563, 564, 565, 566, 567, 568, 569, 570, 571, 572, 573, 574, 575, 576, 577, 578, 579, 580, 581, 582, 583, 584, 585, 586, 587, 588, 590, 591, 593, 594, 595, 596, 597, 598, 599, 601, 602, 603, 605, 606, 607, 608, 609, 612, 613, 614, 615, 616, 617, 618, 619, 621, 623, 624, 626, 627, 628, 630, 631, 632, 633, 634, 635, 637, 638, 639, 640, 641, 642, 643, 644, 645, 649, 650, 651, 652, 655, 656, 657, 658, 659, 660, 661, 662, 663, 664, 665, 666, 667, 668, 669, 670, 671, 672, 673, 674, 678, 679, 680, 681, 682, 684, 685, 687, 688, 690, 691, 695, 696, 697, 698, 700, 701, 702, 703, 705, 706, 707, 708, 709, 710, 711, 712, 714, 715, 716, 717, 718, 719, 720, 722, 724, 725, 726, 728, 729, 730, 731, 732, 734, 735, 741, 742, 743, 744, 745, 746, 747, 749, 750, 751, 753, 754, 755, 756, 757, 758, 759, 760, 762, 763, 764, 765, 766, 767, 769, 771, 774, 775, 776, 778, 779, 781, 782, 783, 784, 785, 787, 788, 789, 790, 791, 792, 793, 796, 799, 800, 801, 802, 803, 804, 805, 806, 807, 808, 810, 811, 813, 814, 818, 820, 821, 823, 824, 826, 827, 828, 829, 830, 831, 832, 833, 834, 835, 837, 838, 840, 841, 842, 843, 844, 846, 847, 848, 850, 851, 852, 853, 854, 858, 859, 860, 862, 863, 864, 865, 866, 867, 868, 869, 870, 872, 874, 877, 878, 879, 880, 881, 882, 884, 885, 887, 888, 889, 891, 892, 893, 895, 896, 897, 898, 899, 900, 901, 902, 903, 904, 905, 906, 907, 909, 910, 911, 912, 913, 914, 915, 916, 917, 918, 919, 920, 921, 922, 923, 924, 925, 926, 927, 928, 929, 930, 931, 932, 933, 934, 935, 936, 937, 938, 939, 941, 942, 943, 944, 945, 946, 947, 948, 949, 950, 951, 952, 953, 954, 955, 956, 957, 958, 959, 960, 961, 962, 963, 964, 965, 966, 967, 968, 969, 970, 971, 972, 973, 974, 975, 976, 977, 978, 980, 981, 982, 984, 985, 986, 987, 988, 989, 991, 992, 993, 994, 997, 999, 1000, 1002, 1003, 1005, 1006, 1007, 1008, 1009, 1010, 1011, 1012, 1013, 1014, 1015, 1016, 1017, 1018, 1019, 1020, 1021, 1022, 1023, 1024, 1025, 1026, 1027, 1028, 1029, 1030, 1031, 1032, 1033, 1034, 1035, 1038, 1039, 1040, 1041, 1042, 1043, 1044, 1046, 1050, 1051, 1053, 1054, 1055, 1056, 1057, 1058, 1059, 1060, 1061, 1062, 1063, 1064, 1066, 1067, 1068, 1069, 1070, 1071, 1073, 1076, 1077, 1078, 1079, 1080, 1081, 1082, 1083, 1084, 1085, 1086, 1087, 1088, 1089, 1090, 1091, 1092, 1093, 1094, 1095, 1096, 1097, 1098, 1099, 1102, 1103, 1104, 1105, 1107, 1111, 1113, 1114, 1115, 1116, 1117, 1119, 1120, 1121, 1123, 1124, 1125, 1126, 1128, 1130, 1131, 1132, 1133, 1135, 1136, 1138, 1139, 1142, 1144, 1145, 1147, 1148, 1149, 1150, 1151, 1152, 1153, 1154, 1160, 1161, 1162, 1163, 1164, 1165, 1167, 1169, 1170, 1171, 1172, 1173, 1174, 1175, 1176, 1177, 1178, 1179, 1180, 1181, 1183, 1184, 1185, 1186, 1187, 1188, 1189, 1190, 1191, 1192, 1193, 1194, 1199, 1202, 1203, 1204, 1205, 1206, 1207, 1211, 1212, 1213, 1214, 1216, 1217, 1219, 1221, 1222, 1223, 1225, 1226, 1227, 1228, 1230, 1231, 1232, 1234, 1235, 1236, 1237, 1238, 1241, 1242, 1243, 1244, 1245, 1246, 1247, 1248, 1250, 1251, 1252, 1253, 1255, 1256, 1257, 1258, 1259, 1260, 1263, 1265, 1266, 1267, 1268, 1269, 1270, 1271, 1272, 1273, 1276, 1277, 1278, 1279, 1280, 1281, 1282, 1283, 1284, 1285, 1286, 1288, 1289, 1290, 1292, 1293, 1294, 1295, 1296, 1297, 1298, 1299, 1300, 1301, 1302, 1303, 1305, 1306, 1307, 1310, 1311, 1312, 1313, 1315, 1316, 1317, 1321, 1322, 1323, 1324, 1325, 1326, 1327, 1328, 1329, 1330, 1331, 1332, 1333, 1334, 1335, 1336, 1337, 1339, 1340, 1341, 1342, 1343, 1344, 1345, 1346, 1347, 1348, 1349, 1350, 1351, 1352, 1353, 1354, 1355, 1357, 1358, 1359, 1360, 1361, 1362, 1363, 1364, 1365, 1366, 1367, 1369, 1371, 1376, 1380, 1381, 1384, 1386, 1388, 1390, 1392, 1393, 1394, 1395, 1397, 1398, 1399, 1401, 1404, 1405, 1406, 1407, 1409, 1410, 1411, 1412, 1413, 1414, 1415, 1416, 1417, 1419, 1420, 1421, 1422, 1423, 1425, 1426, 1428, 1430, 1433, 1434, 1436, 1437, 1439, 1440, 1441, 1442, 1444, 1445, 1446, 1447, 1449, 1450, 1453, 1454, 1455, 1456, 1457, 1458, 1459, 1460, 1461, 1463, 1464, 1466, 1468, 1470, 1471, 1472, 1474, 1475, 1476, 1477, 1480, 1482, 1483, 1484, 1485, 1486, 1487, 1489, 1490, 1493, 1494, 1496, 1497, 1498, 1500, 1501, 1502, 1503, 1504, 1507, 1508, 1509, 1510, 1511, 1513, 1514, 1516, 1519, 1520, 1522, 1526, 1528, 1529, 1531, 1532, 1533, 1534, 1535, 1537, 1538, 1539, 1541, 1542, 1543, 1545, 1546, 1547, 1548, 1549, 1550, 1551, 1553, 1554, 1555, 1558, 1561, 1563, 1564, 1565, 1566, 1567, 1569, 1570, 1571, 1572, 1574, 1575, 1579, 1581, 1582, 1583, 1584, 1585, 1588, 1590, 1592, 1593, 1594, 1595, 1596, 1597, 1598, 1599, 1600, 1601, 1602, 1603, 1605, 1609, 1611, 1612, 1613, 1614, 1615, 1617, 1619, 1620, 1621, 1622, 1623, 1624, 1625, 1627, 1629, 1630, 1632, 1633, 1635, 1639, 1640, 1641, 1642, 1643, 1644, 1645, 1646, 1647, 1648, 1649, 1650, 1651, 1652, 1653, 1654, 1655, 1656, 1657, 1658, 1659, 1660, 1661, 1662, 1663, 1664, 1665, 1666, 1668, 1669, 1670, 1671, 1672, 1673, 1674, 1675, 1677, 1678, 1679, 1680, 1682, 1683, 1684, 1685, 1686, 1688, 1689, 1692, 1693, 1694, 1695, 1696, 1699, 1701, 1702, 1703, 1704, 1707, 1709, 1711, 1713, 1714, 1715, 1717, 1718, 1719, 1720, 1721, 1724, 1725, 1727, 1728, 1729, 1730, 1731, 1732, 1733, 1734, 1735, 1741, 1743, 1746, 1747, 1748, 1749, 1750, 1753, 1754, 1755, 1756, 1758, 1759, 1760, 1764, 1767, 1770, 1771, 1777, 1779, 1780, 1782, 1783, 1784, 1785, 1787, 1791, 1793, 1794, 1795, 1797, 1798, 1799, 1804, 1805, 1806, 1807, 1809, 1810, 1811, 1812, 1814, 1815, 1816, 1817, 1820, 1821, 1822, 1824, 1825, 1826, 1827, 1829, 1830, 1834, 1835, 1836, 1837, 1839, 1840, 1841, 1842, 1843, 1844, 1845, 1846, 1848, 1849, 1850, 1851, 1852, 1853, 1854, 1855, 1856, 1857, 1859, 1860, 1861, 1862, 1863, 1864, 1865, 1868, 1870, 1871, 1872, 1873, 1874, 1875, 1876, 1877, 1878, 1879, 1880, 1881, 1883, 1884, 1885, 1886, 1887, 1888, 1889, 1890, 1891, 1892, 1893, 1894, 1895, 1896, 1897, 1898, 1899, 1900, 1901, 1902, 1903, 1904, 1905, 1906, 1907, 1908, 1910, 1911, 1912, 1913, 1914, 1915, 1916, 1919, 1920, 1921, 1922, 1923, 1924, 1926, 1928, 1929, 1930, 1931, 1932, 1933, 1934, 1935, 1936, 1937, 1938, 1939, 1940, 1941, 1942, 1943, 1944, 1945, 1946, 1947, 1948, 1949, 1950, 1951, 1952, 1954, 1955, 1956, 1957, 1958, 1959, 1960, 1961, 1962, 1963, 1964, 1965, 1966, 1967, 1968, 1969, 1970, 1971, 1972, 1973, 1974, 1975, 1976, 1977, 1978, 1979, 1980, 1981, 1982, 1983, 1984, 1985, 1986, 1987, 1988, 1989, 1990, 1991, 1992, 1993, 1994, 1995, 1996, 1997, 1998, 1999, 2003, 2004, 2007, 2008, 2009, 2010, 2011, 2012, 2014, 2015, 2016, 2017, 2018, 2020, 2021, 2022, 2023, 2024, 2025, 2026, 2027, 2029, 2031, 2032, 2033, 2034, 2035, 2036, 2037, 2038, 2039, 2040, 2042, 2043, 2044, 2045, 2046, 2047, 2049, 2050, 2051, 2052, 2053, 2054, 2056, 2057, 2059, 2060, 2061, 2062, 2063, 2064, 2065, 2066, 2067, 2068, 2069, 2070, 2071, 2072, 2073, 2074, 2075, 2076, 2077, 2078, 2079, 2080, 2081, 2082, 2083, 2084, 2085, 2086, 2087, 2088, 2089, 2090, 2091, 2092, 2093, 2095, 2096, 2097, 2098, 2099, 2100, 2101, 2102, 2103, 2104, 2106, 2107, 2108, 2109, 2110, 2111, 2112, 2113, 2114, 2116, 2117, 2118, 2119, 2120, 2121, 2122, 2123, 2124, 2125, 2127, 2128, 2129, 2130, 2131, 2132, 2133, 2134, 2135, 2136, 2137, 2138, 2139, 2140, 2141, 2142, 2143, 2144, 2145, 2146, 2147, 2148, 2149, 2150, 2151, 2152, 2154, 2155, 2156, 2157, 2158, 2159, 2160, 2161, 2162, 2163, 2165, 2166, 2168, 2169, 2171, 2172, 2173, 2174, 2175, 2176, 2177, 2178, 2179, 2180, 2181, 2182, 2183, 2184, 2185, 2186, 2187, 2188, 2189, 2190, 2191, 2192, 2195, 2196, 2197, 2198, 2200, 2201, 2202, 2203, 2204, 2205, 2206, 2207, 2208, 2209, 2210, 2211, 2212, 2213, 2214, 2215, 2217, 2218, 2219, 2221, 2223, 2226, 2227, 2231, 2232, 2233, 2234, 2235, 2236, 2237, 2238, 2239, 2240, 2241, 2242, 2243, 2244, 2245, 2247, 2248, 2249, 2250, 2251, 2252, 2253, 2254, 2255, 2256, 2257, 2258, 2259, 2260, 2261, 2262, 2263, 2264, 2265, 2266, 2267, 2268, 2269, 2271, 2272, 2276, 2277, 2279, 2280, 2282, 2283, 2284, 2285, 2286, 2287, 2289, 2290, 2291, 2292, 2293, 2294, 2295, 2296, 2297, 2298, 2299, 2300, 2301, 2302, 2303, 2304, 2305, 2306, 2309, 2310, 2311, 2312, 2313, 2314, 2315, 2316, 2317, 2318, 2320, 2321, 2323, 2324, 2325, 2326, 2327, 2328, 2329, 2330, 2331, 2332, 2333, 2335, 2336, 2337, 2338, 2339, 2340, 2341, 2342, 2343, 2345, 2346, 2347, 2348, 2349, 2350, 2351, 2352, 2354, 2355, 2356, 2357, 2358, 2359, 2360, 2361, 2362, 2363, 2367, 2368, 2369, 2371, 2372, 2374, 2375, 2377, 2378, 2379, 2380, 2381, 2382, 2383, 2384, 2385, 2386, 2387, 2388, 2389, 2390, 2391, 2392, 2394, 2395, 2396, 2397, 2398, 2399, 2400, 2401, 2407, 2408, 2413, 2415, 2416, 2417, 2418, 2419, 2420, 2423, 2424, 2425, 2426, 2428, 2430, 2431, 2432, 2433, 2434, 2435, 2436, 2437, 2438, 2439, 2440, 2441, 2442, 2443, 2444, 2445, 2446, 2447, 2448, 2449, 2450, 2451, 2452, 2453, 2454, 2455, 2456, 2458, 2459, 2460, 2461, 2462, 2463, 2464, 2465, 2466, 2467, 2469, 2470, 2472, 2473, 2474, 2477, 2478, 2479, 2480, 2481, 2482, 2483, 2484, 2485, 2486, 2488, 2491, 2492, 2493, 2494, 2495, 2496, 2497, 2498, 2499, 2500, 2501, 2502, 2503, 2504, 2505, 2506, 2507, 2509, 2510, 2511, 2512, 2513, 2514, 2515, 2516, 2517, 2518, 2519, 2520, 2522, 2523, 2526, 2534, 2536, 2537, 2538, 2539, 2541, 2542, 2543, 2544, 2545, 2546, 2548, 2550, 2551, 2552, 2553, 2554, 2555, 2556, 2557, 2558, 2559, 2560, 2561, 2562, 2563, 2565, 2566, 2567, 2569, 2570, 2572, 2573, 2574, 2575, 2576, 2577, 2578, 2579, 2580, 2581, 2583, 2584, 2585, 2586, 2587, 2589, 2590, 2591, 2592, 2593, 2594, 2596, 2597, 2598, 2599, 2605, 2606, 2607, 2608, 2609, 2610, 2611, 2612, 2613, 2615, 2618, 2619, 2620, 2621, 2622, 2623, 2624, 2626, 2627, 2629, 2630, 2631, 2632, 2633, 2634, 2635, 2636, 2637, 2638, 2639, 2644, 2645, 2646, 2647, 2648, 2649, 2650, 2651, 2652, 2653, 2654, 2655, 2656, 2657, 2658, 2659, 2660, 2661, 2663, 2664, 2665, 2666, 2667, 2668, 2669, 2670, 2671, 2672, 2673, 2674, 2675, 2676, 2677, 2678, 2679, 2681, 2682, 2685, 2686, 2687, 2688, 2689, 2690, 2691, 2693, 2694, 2695, 2696, 2697, 2699, 2700, 2702, 2703, 2704, 2705, 2706, 2707, 2708, 2709, 2710, 2711, 2712, 2713, 2714, 2715, 2717, 2718, 2719, 2721, 2724, 2725, 2726, 2727, 2729, 2730, 2731, 2732, 2733, 2734, 2736, 2738, 2739, 2740, 2742, 2743, 2744, 2745, 2746, 2747, 2749, 2750, 2751, 2752, 2753, 2754, 2755, 2756, 2757, 2758, 2759, 2760, 2761, 2762, 2764, 2765, 2766, 2767, 2768, 2769, 2770, 2771, 2772, 2773, 2774, 2775, 2776, 2777, 2778, 2779, 2780, 2781, 2782, 2783, 2784, 2785, 2786, 2787, 2788, 2789, 2790, 2791, 2792, 2793, 2794, 2795, 2796, 2797, 2798, 2799, 2800, 2801, 2803, 2804, 2805, 2806, 2809, 2810, 2811, 2813, 2814, 2817, 2818, 2819, 2820, 2821, 2822, 2824, 2825, 2827, 2828, 2829, 2830, 2831, 2833, 2834, 2836, 2837, 2839, 2840, 2841, 2842, 2843, 2844, 2845, 2846, 2847, 2848, 2849, 2850, 2851, 2852, 2853, 2854, 2855, 2856, 2857, 2858, 2859, 2860, 2861, 2862, 2863, 2864, 2865, 2866, 2867, 2868, 2869, 2870, 2871, 2872, 2873, 2874, 2875, 2876, 2877, 2878, 2882, 2883, 2884, 2885, 2886, 2888, 2889, 2891, 2894, 2895, 2896, 2897, 2898, 2899, 2900, 2901, 2902, 2903, 2904, 2906, 2907, 2908, 2909, 2911, 2912, 2913, 2914, 2915, 2917, 2918, 2919, 2920, 2921, 2922, 2923, 2925, 2926, 2927, 2928, 2929, 2930, 2931, 2932, 2933, 2934, 2935, 2936, 2937, 2938, 2939, 2940, 2941, 2942, 2943, 2945, 2946, 2950, 2952, 2953, 2955, 2960, 2961, 2962, 2963, 2964, 2965, 2966, 2967, 2968, 2969, 2970, 2971, 2972, 2973, 2974, 2975, 2976, 2977, 2978, 2979, 2981, 2982, 2983, 2984, 2987, 2988, 2992, 2994, 2995, 2996, 2997, 2998, 2999, 3001, 3002, 3003, 3004, 3005, 3006, 3007, 3008, 3010, 3011, 3012, 3013, 3014, 3015, 3016, 3017, 3018, 3019, 3021, 3022, 3024, 3025, 3026, 3027, 3028, 3031, 3033, 3034, 3035, 3036, 3037, 3038, 3039, 3040, 3041, 3042, 3043, 3044, 3045, 3046, 3047, 3048, 3049, 3050, 3051, 3052, 3053, 3054, 3055, 3056, 3057, 3058, 3060, 3061, 3063, 3064, 3065, 3067, 3068, 3069, 3070, 3071, 3072, 3073, 3074, 3075, 3076, 3077, 3078, 3079, 3081, 3083, 3084, 3085, 3086, 3087, 3088, 3089, 3090, 3091, 3092, 3093, 3094, 3095, 3096, 3097, 3098, 3099, 3100, 3101, 3102, 3103, 3105, 3106, 3108, 3109, 3110, 3111, 3112, 3114, 3115, 3116, 3117, 3118, 3119, 3120, 3121, 3122, 3123, 3124, 3125, 3126, 3127, 3128, 3129, 3130, 3131, 3132, 3133, 3134, 3135, 3136, 3138, 3140, 3141, 3142, 3143, 3144, 3145, 3146, 3147, 3148, 3149, 3150, 3151, 3152, 3154, 3155, 3156, 3157, 3158, 3159, 3160, 3161, 3162, 3163, 3164, 3166, 3167, 3168, 3169, 3171, 3172, 3173, 3174, 3175, 3176, 3177, 3178, 3179, 3180, 3181, 3182, 3183, 3185, 3186, 3187, 3188, 3189, 3190, 3192, 3194, 3196, 3198, 3199, 3200, 3201, 3202, 3203, 3205, 3206, 3207, 3209, 3210, 3211, 3212, 3213, 3214, 3215, 3216, 3217, 3218, 3219, 3220, 3221, 3222, 3223, 3224, 3225, 3228, 3229, 3230, 3232, 3233, 3235, 3236, 3237, 3238, 3239, 3240, 3241, 3242, 3243, 3244, 3245, 3246, 3247, 3248, 3249, 3250, 3251, 3252, 3253, 3254, 3255, 3257, 3258, 3259, 3260, 3261, 3262, 3263, 3266, 3269, 3270, 3271, 3272, 3273, 3274, 3276, 3277, 3280, 3281, 3282, 3283, 3284, 3285, 3286, 3287, 3288, 3289, 3290, 3291, 3292, 3293, 3294, 3295, 3296, 3297, 3298, 3299, 3300, 3301, 3302, 3303, 3304, 3305, 3306, 3307, 3308, 3309, 3310, 3311, 3312, 3313, 3315, 3317, 3318, 3319, 3320, 3321, 3322, 3323, 3324, 3325, 3326, 3327, 3328, 3329, 3330, 3331, 3333, 3334, 3335, 3336, 3337, 3338, 3339, 3340, 3341, 3342, 3343, 3344, 3345, 3346, 3347, 3349, 3350, 3351, 3352, 3353, 3354, 3355, 3357, 3358, 3359, 3360, 3361, 3362, 3363, 3364, 3365, 3366, 3367, 3368, 3370, 3371, 3373, 3374, 3375, 3376, 3377, 3378, 3379, 3380, 3381, 3382, 3385, 3386, 3387, 3388, 3390, 3391, 3392, 3393, 3394, 3395, 3396, 3397, 3398, 3399, 3400, 3401, 3402, 3403, 3407, 3408, 3409, 3410, 3412, 3413, 3414, 3415, 3416, 3417, 3418, 3419, 3420, 3421, 3422, 3423, 3424, 3425, 3426, 3427, 3428, 3429, 3435, 3436, 3437, 3444, 3445, 3446, 3447, 3448, 3449, 3450, 3451, 3453, 3454, 3456, 3457, 3458, 3459, 3460, 3461, 3462, 3463, 3464, 3465, 3466, 3467, 3468, 3469, 3470, 3471, 3472, 3473, 3474, 3475, 3476, 3477, 3478, 3479, 3480, 3481, 3482, 3483, 3484, 3485, 3486, 3487, 3488, 3489, 3490, 3491, 3492, 3493, 3494, 3495, 3496, 3497, 3498, 3499, 3500, 3501, 3502, 3503, 3504, 3505, 3506, 3507, 3509, 3510, 3511, 3512, 3513, 3514, 3515, 3516, 3517, 3518, 3520, 3521, 3522, 3524, 3525, 3526, 3528, 3529, 3530, 3531, 3532, 3533, 3534, 3535, 3536, 3537, 3538, 3539, 3540, 3542, 3543, 3544, 3545, 3546, 3547, 3548, 3549, 3550, 3551, 3552, 3553, 3554, 3556, 3557, 3559, 3562, 3564, 3565, 3566, 3567, 3568, 3569, 3570, 3571, 3572, 3573, 3574, 3575, 3577, 3579, 3580, 3581, 3585, 3586, 3587, 3588, 3590, 3591, 3592, 3594, 3595, 3596, 3597, 3598, 3599, 3600, 3601, 3602, 3603, 3604, 3605, 3606, 3607, 3608, 3609, 3610, 3611, 3612, 3613, 3614, 3615, 3616, 3617, 3618, 3619, 3620, 3621, 3622, 3625, 3626, 3627, 3629, 3631, 3632, 3634, 3636, 3637, 3640, 3641, 3642, 3644, 3645, 3646, 3647, 3648, 3649, 3651, 3652, 3653, 3655, 3656, 3657, 3658, 3659, 3660, 3661, 3662, 3663, 3664, 3665, 3666, 3668, 3669, 3670, 3671, 3672, 3673, 3674, 3675, 3676, 3677, 3678, 3679, 3680, 3683, 3684, 3685, 3686, 3687, 3688, 3689, 3690, 3691, 3692, 3693, 3694, 3695, 3696, 3699, 3700, 3701, 3706, 3707, 3708, 3709, 3711, 3712, 3713, 3714, 3715, 3718, 3719, 3720, 3721, 3722, 3723, 3724, 3725, 3727, 3728, 3730, 3731, 3732, 3733, 3734, 3735, 3736, 3737, 3738, 3739, 3741, 3742, 3743, 3746, 3747, 3748, 3749, 3751, 3752, 3754, 3755, 3756, 3757, 3758, 3759, 3760, 3762, 3765, 3769, 3770, 3772, 3773, 3774, 3775, 3776, 3777, 3778, 3779, 3780, 3783, 3784, 3785, 3786, 3787, 3788, 3789, 3790, 3791, 3792, 3794, 3795, 3796, 3797, 3798, 3799, 3800, 3801, 3803, 3804, 3806, 3807, 3808, 3809, 3810, 3811, 3812, 3813, 3814, 3816, 3817, 3818, 3819, 3820, 3821, 3822, 3823, 3824, 3825, 3826, 3828, 3830, 3831, 3832, 3833, 3834, 3835, 3838, 3839, 3840, 3842, 3843, 3844, 3845, 3846, 3847, 3848, 3849, 3850, 3851, 3852, 3853, 3854, 3855, 3857, 3858, 3859, 3860, 3861, 3862, 3863, 3865, 3866, 3867, 3869, 3870, 3871, 3872, 3873, 3874, 3875, 3876, 3878, 3880, 3881, 3882, 3883, 3884, 3885, 3886, 3887, 3888, 3890, 3891, 3892, 3893, 3894, 3895, 3896, 3897, 3899, 3900, 3901, 3902, 3903, 3904, 3905, 3906, 3908, 3909, 3910, 3911, 3912, 3913, 3914, 3915, 3916, 3917, 3918, 3919, 3920, 3921, 3922, 3923, 3924, 3925, 3926, 3927, 3928, 3929, 3930, 3931, 3932, 3933, 3934, 3935, 3936, 3937, 3938, 3939, 3940, 3941, 3942, 3943, 3944, 3945, 3948, 3949, 3950, 3951, 3952]\n"
     ]
    }
   ],
   "source": [
    "def get_similar_items(i,gratherAlfa):\n",
    "    l=item_correlation[i]\n",
    "    #print(l)\n",
    "    item_indices, data_item_sorted = zip(*sorted(enumerate(l), key=itemgetter(1),reverse=True))\n",
    "    item_indices=item_indices[1:]\n",
    "    sim_items=[i for i,v in enumerate(l) if v > gratherAlfa]\n",
    "    #print (sim_items)\n",
    "    return sim_items\n",
    "print(get_similar_items(9,0.4))"
   ]
  },
  {
   "cell_type": "code",
   "execution_count": 23,
   "id": "0305d307",
   "metadata": {},
   "outputs": [
    {
     "data": {
      "text/plain": [
       "0.8293692826191622"
      ]
     },
     "execution_count": 23,
     "metadata": {},
     "output_type": "execute_result"
    }
   ],
   "source": [
    "# you need complete rating matrix then load it here\n",
    "user_item_relevancy_data = load('user_item_relevancy.npy')\n",
    "user_item_relevancy_data[1][4]"
   ]
  },
  {
   "cell_type": "code",
   "execution_count": 44,
   "id": "d0be9bcc",
   "metadata": {},
   "outputs": [
    {
     "data": {
      "text/plain": [
       "1.0"
      ]
     },
     "execution_count": 44,
     "metadata": {},
     "output_type": "execute_result"
    }
   ],
   "source": [
    "def calculate_HR_l(u,l):\n",
    "    l_friendly=get_user_friendly_movies(u)\n",
    "    l_rating=get_movieids(u)\n",
    "    l_rating=np.array(l_rating)\n",
    "    l_friendly=np.array(l_friendly)\n",
    "    test_item=np.intersect1d(l_rating, l)\n",
    "    l=np.array(l)\n",
    "    true_item=np.intersect1d(l_friendly, l)\n",
    "    #print(len(test_item))\n",
    "    try:\n",
    "        HR=len(true_item)/len(test_item)\n",
    "    except:\n",
    "        HR=1\n",
    "    return HR\n",
    "calculate_HR_l(1,[2,1,5,420])"
   ]
  },
  {
   "cell_type": "code",
   "execution_count": 45,
   "id": "81e950a2",
   "metadata": {},
   "outputs": [
    {
     "name": "stdout",
     "output_type": "stream",
     "text": [
      "short_head\n",
      "long_tail\n",
      "short_head\n",
      "long_tail\n",
      "short_head\n",
      "long_tail\n",
      "short_head\n",
      "0.3333333333333333\n"
     ]
    }
   ],
   "source": [
    "def calculate_ILBU(l):\n",
    "    sum=0\n",
    "    recomended_list=np.array(l)\n",
    "    for i in recomended_list:\n",
    "        for j in recomended_list:\n",
    "            if i!=j:\n",
    "                if is_equal_group(i,j)==True:\n",
    "                    #print(i,j)\n",
    "                    sum+=1\n",
    "    #print (sum)\n",
    "    return (sum)/ (len(l)*(len(l)-1))\n",
    "                        \n",
    "p=calculate_ILBU([1,771,2,5,3,685,10])\n",
    "print(get_group(1))\n",
    "print(get_group(171))\n",
    "print(get_group(2))\n",
    "print(get_group(5))\n",
    "print(get_group(3))\n",
    "print(get_group(685))\n",
    "print(get_group(10))\n",
    "print(p)"
   ]
  },
  {
   "cell_type": "code",
   "execution_count": 46,
   "id": "ec189b84",
   "metadata": {},
   "outputs": [
    {
     "data": {
      "text/plain": [
       "0.05837748344370861"
      ]
     },
     "execution_count": 46,
     "metadata": {},
     "output_type": "execute_result"
    }
   ],
   "source": [
    "#average recommendation popularity\n",
    "def calculate_ARP(all_list):\n",
    "    sum_all=0\n",
    "    for l in all_list:\n",
    "        sum=0\n",
    "        for i in l:\n",
    "            deg=get_degree_item(int(i))\n",
    "            deg=deg/6040\n",
    "            sum+=deg\n",
    "        ave_degree=sum/len(l)\n",
    "        sum_all+=ave_degree\n",
    "    ave_all=sum_all/len(all_list)\n",
    "    return ave_all\n",
    "arp=calculate_ARP([[2,5,6,13,78],[5,6,89,125,3],[3,125,654,35,87]])  \n",
    "arp"
   ]
  },
  {
   "cell_type": "code",
   "execution_count": 47,
   "id": "d4fbf949",
   "metadata": {},
   "outputs": [
    {
     "data": {
      "text/plain": [
       "0.5333333333333333"
      ]
     },
     "execution_count": 47,
     "metadata": {},
     "output_type": "execute_result"
    }
   ],
   "source": [
    "# average precentge long_tail items\n",
    "def calculate_APLT(all_list):\n",
    "    sum_all=0\n",
    "    for l in all_list:\n",
    "        sum=0\n",
    "        for i in l:\n",
    "            g=get_group(int(i))\n",
    "            #print(g)\n",
    "            if g=='long_tail':\n",
    "                sum+=1\n",
    "        ave=sum/len(l)\n",
    "        sum_all+=ave\n",
    "    ave_all=sum_all/len(all_list)\n",
    "    return ave_all\n",
    "aclt=calculate_APLT([[2,5,6,13,78],[787,6,89,125,3],[3,125,654,35,87]])  \n",
    "aclt"
   ]
  },
  {
   "cell_type": "code",
   "execution_count": 48,
   "id": "a6639d0c",
   "metadata": {},
   "outputs": [
    {
     "name": "stdout",
     "output_type": "stream",
     "text": [
      "0.2\n",
      "[1193, 2355, 1287, 2804, 595, 1035, 3105, 1270, 527, 48, 1836, 1022, 150, 1, 1961, 1028, 1029, 2028]\n"
     ]
    }
   ],
   "source": [
    "def calculate_precision(l,user):\n",
    "    items_friendly=get_user_friendly_movies(user)\n",
    "    items_notfriendly=get_user_Notfriendly_movies(user)\n",
    "    fp=[v for i,v in enumerate(l) if int(v)  in items_notfriendly]\n",
    "    tp=[v for i,v in enumerate(l) if int(v) in items_friendly]\n",
    "    #print(\"tp=\",len(tp))\n",
    "    if len(tp)==0:\n",
    "        ave=0\n",
    "    else:\n",
    "        ave=len(tp)/(len(tp)+len(fp))\n",
    "    #print(len(tp))\n",
    "    #print(len(fp))\n",
    "    return ave\n",
    "pr=calculate_precision([2,5,771,608,19,425,783,2018,3105,2797,3,4],1)   \n",
    "print(pr)\n",
    "f=get_user_friendly_movies(1)\n",
    "print(f)"
   ]
  },
  {
   "cell_type": "code",
   "execution_count": 49,
   "id": "f6922366",
   "metadata": {},
   "outputs": [
    {
     "name": "stdout",
     "output_type": "stream",
     "text": [
      "0.05555555555555555\n",
      "[1193, 2355, 1287, 2804, 595, 1035, 3105, 1270, 527, 48, 1836, 1022, 150, 1, 1961, 1028, 1029, 2028]\n"
     ]
    }
   ],
   "source": [
    "def calculate_recall(l,user):\n",
    "    items_friendly=get_user_friendly_movies(user)\n",
    "    tp=[v for i,v in enumerate(l) if int(v) in items_friendly]\n",
    "    fn=[v for i,v in enumerate(items_friendly) if int(v) not in l]\n",
    "    #print(tp)\n",
    "    #print(fn)\n",
    "    makhraj=len(l)-len(tp)\n",
    "    #print(fn)\n",
    "    if len(tp)==0:\n",
    "        ave=0\n",
    "    else:\n",
    "        ave=len(tp)/(len(tp)+len(fn))\n",
    "    return ave\n",
    "pr=calculate_recall([2,5,771,608,19,425,783,2018,3105,2797,3,4],1)   \n",
    "print(pr)\n",
    "f=get_user_friendly_movies(1)\n",
    "print(f)"
   ]
  },
  {
   "cell_type": "code",
   "execution_count": 125,
   "id": "c31c59b0",
   "metadata": {},
   "outputs": [],
   "source": [
    "def claculate_diversity(all_recommended_list):\n",
    "    all_diversity=[]\n",
    "    for l in all_recommended_list:\n",
    "        sum=0\n",
    "        for i in range(len(l)):\n",
    "            for j in range(i+1,len(l)):\n",
    "                item1=int(l[i])\n",
    "                item2=int(l[j])\n",
    "                #print(item1,item2)\n",
    "                sim=item_correlation[item1][item2]\n",
    "                s=1-sim\n",
    "                sum+=s\n",
    "        #print(\"sum=\",sum)\n",
    "        #print(\"len l=\",len(l))\n",
    "        div_l=sum/( (len(l)-1)*(len(l)/2) )\n",
    "        #print(\"diversity l=\",div_l)\n",
    "        all_diversity.append(div_l)\n",
    "    average_diversity=math.fsum(all_diversity)/len(all_diversity)\n",
    "    #print(\"final diversity=\",math.fsum(all_diversity))\n",
    "    return average_diversity\n"
   ]
  },
  {
   "cell_type": "code",
   "execution_count": 51,
   "id": "fb0ddb5e",
   "metadata": {},
   "outputs": [
    {
     "data": {
      "text/plain": [
       "0"
      ]
     },
     "execution_count": 51,
     "metadata": {},
     "output_type": "execute_result"
    }
   ],
   "source": [
    "def f1_score(precision,recall):\n",
    "    if (precision==0 and recall==0):\n",
    "        return 0\n",
    "    f1=(precision*recall)/(precision+recall)\n",
    "    return f1\n",
    "f1_score(0,0)"
   ]
  },
  {
   "cell_type": "code",
   "execution_count": 124,
   "id": "21bdfcb3",
   "metadata": {},
   "outputs": [
    {
     "name": "stdout",
     "output_type": "stream",
     "text": [
      "963.5600000000001\n",
      "207\n",
      "583\n",
      "172\n"
     ]
    }
   ],
   "source": [
    "num_selected_items=(26/100)*len(movie_ids)\n",
    "print(num_selected_items)\n",
    "numberOf_shorthead_item=int((len(short_head_data)/len(movie_ids))*num_selected_items)\n",
    "print(numberOf_shorthead_item)\n",
    "numberOf_medium_item=int((len(medum_tail_data)/len(movie_ids))*num_selected_items)\n",
    "print(numberOf_medium_item)\n",
    "numberOf_distinct_item=int((len(distict_tail_data)/len(movie_ids))*num_selected_items)\n",
    "print(numberOf_distinct_item)"
   ]
  },
  {
   "cell_type": "code",
   "execution_count": 53,
   "id": "f8cce5d5",
   "metadata": {},
   "outputs": [],
   "source": [
    "def get_relevance_items(user,count,li):\n",
    "    dic={li[0]:0,li[1]:0}\n",
    "    for i in(li):\n",
    "        s=user_item_relevancy_data[user][i]\n",
    "        dic[i]=s\n",
    "    sim=dict(sorted(dic.items(), key=lambda item: item[1],reverse = True)[:count])\n",
    "    sim_items=list(sim.keys())\n",
    "    return sim_items\n"
   ]
  },
  {
   "cell_type": "code",
   "execution_count": 122,
   "id": "f470f652",
   "metadata": {},
   "outputs": [
    {
     "name": "stdout",
     "output_type": "stream",
     "text": [
      "[474, 223, 1371, 1080, 10, 3697, 2804, 3578, 368, 3147, 1641, 2470, 3624, 1101, 2966, 1120, 3259, 337, 1032, 1042, 2907, 60, 798, 3308, 3807, 1983, 148, 2583, 40, 692, 2203, 3491, 1996, 3792, 3711, 1746, 731, 1392, 3163, 714, 3610, 476, 2136, 2077, 520, 971, 3773, 3503, 3032, 3576, 1606, 44, 475, 1689, 678, 2263, 911, 2558, 1298, 413, 424, 3590, 550, 3726, 1176, 2565, 1348, 1264, 3320, 2540, 2461, 3540, 1600, 1666, 571, 1611, 436, 1051, 2242, 119, 2510, 53, 2444, 2308, 3056, 634, 1543, 3292, 3853, 1502, 1891, 2999, 75, 1501, 114]\n"
     ]
    }
   ],
   "source": [
    "def get_selected_items(user):\n",
    "    shorthead_selected=get_relevance_items(user,numberOf_shorthead_item,short_head_data)\n",
    "    distinct_selected=get_relevance_items(user,numberOf_distinct_item,distict_tail_data)\n",
    "    medium_selected=get_relevance_items(user,numberOf_medium_item,medum_tail_data)\n",
    "    all_item_selected=shorthead_selected+medium_selected+distinct_selected\n",
    "    return all_item_selected\n",
    "all_item_selected=get_selected_items(2)\n",
    "print(all_item_selected)"
   ]
  },
  {
   "cell_type": "code",
   "execution_count": 121,
   "id": "bf306b9c",
   "metadata": {},
   "outputs": [
    {
     "name": "stdout",
     "output_type": "stream",
     "text": [
      "[[ 0.    0.    0.   ...  0.    0.    0.  ]\n",
      " [ 0.   -1.    0.   ...  0.    0.    0.01]\n",
      " [ 0.    0.    0.   ...  0.    0.    0.  ]\n",
      " ...\n",
      " [ 0.    0.    0.   ...  0.    0.    0.  ]\n",
      " [ 0.    0.    0.   ...  0.    0.    0.  ]\n",
      " [ 0.    0.01  0.   ...  0.    0.   -1.  ]]\n"
     ]
    }
   ],
   "source": [
    "def initial_pheromon(selected_items):\n",
    "    shape=(max(selected_items)+1,max(selected_items)+1)\n",
    "    #print(shape)\n",
    "    pheromon_matrix = np.zeros(shape)\n",
    "    maxph=np.max(pheromon_matrix)\n",
    "    #print(\"max ph=\",maxph)\n",
    "    for i in selected_items:\n",
    "        #print(i)\n",
    "        for j in selected_items:\n",
    "            if i!=j:\n",
    "                pheromon_matrix[i][j]=0.01\n",
    "            else:\n",
    "                pheromon_matrix[i][j]=-1 \n",
    "            #print(pheromon_matrix[i][j])\n",
    "    return pheromon_matrix\n",
    "pheromon_matrix=initial_pheromon(all_item_selected)\n",
    "print(pheromon_matrix)"
   ]
  },
  {
   "cell_type": "code",
   "execution_count": 118,
   "id": "58e267ea",
   "metadata": {},
   "outputs": [
    {
     "data": {
      "text/plain": [
       "{1: 0, 2: 0, 5: 0, 8: 0, 6: 0}"
      ]
     },
     "execution_count": 118,
     "metadata": {},
     "output_type": "execute_result"
    }
   ],
   "source": [
    "def set_propablity_nodes(c_node,all_node):\n",
    "    ph_list=[]\n",
    "    \n",
    "    #print(len(pheromon_matrix))\n",
    "    #print(\"c_node=\",c_node)\n",
    "    dict_prob={}\n",
    "    for i in all_node:\n",
    "        sorat=0\n",
    "        ph=pheromon_matrix[c_node][i]\n",
    "        sim=item_correlation[c_node][i]\n",
    "        notsim=1-sim\n",
    "        if ph>0:\n",
    "            sorat=(pow(notsim,0.5))*(pow(ph,0.5))/100\n",
    "        #if i==678:\n",
    "            #print(sorat)\n",
    "        dict_prob[i]=sorat\n",
    "        ph_list.append(sorat)\n",
    "    #summ=sum(ph_list)\n",
    "    #probab_list=[x / summ for x in ph_list]\n",
    "    #probab_list=ph_list/sum(ph_list)\n",
    "    #print(probab_list)\n",
    "    return dict_prob\n",
    "p_list=set_propablity_nodes(2,[1,2,5,8,6])\n",
    "p_list"
   ]
  },
  {
   "cell_type": "code",
   "execution_count": 119,
   "id": "5c1c611b",
   "metadata": {},
   "outputs": [
    {
     "data": {
      "text/plain": [
       "1"
      ]
     },
     "execution_count": 119,
     "metadata": {},
     "output_type": "execute_result"
    }
   ],
   "source": [
    "def grt_next_node(prob_list,all_node):\n",
    "    next_node=random.choices(all_node, weights=prob_list.values(),k=1)\n",
    "    #print(next_node)\n",
    "    return next_node[0]\n",
    "grt_next_node({2: 0.1, 1: 0.4, 5: 0.3, 8: 0.1, 7: 0.1},[2,1,5,8,7])"
   ]
  },
  {
   "cell_type": "code",
   "execution_count": 120,
   "id": "8603f454",
   "metadata": {},
   "outputs": [],
   "source": [
    "import random\n",
    "def move_ant(pheromon_matrix,items,k,ant_number):\n",
    "    path=[]\n",
    "    #random_index = random.randint(0,len(items)-1)\n",
    "    current_node=items[ant_number]\n",
    "    path.append(current_node)\n",
    "    items.remove(current_node)\n",
    "    #print(\"current item =\",current_node)\n",
    "    for i in range(k):\n",
    "        prob=set_propablity_nodes(current_node,items)\n",
    "        current_node=grt_next_node(prob,items)\n",
    "        #print(\"curent node=\",current_node)\n",
    "        path.append(current_node)\n",
    "        items.remove(current_node)\n",
    "    return path\n"
   ]
  },
  {
   "cell_type": "code",
   "execution_count": 71,
   "id": "7ba88b9a",
   "metadata": {},
   "outputs": [],
   "source": [
    "def calculate_fitness(u,path,alpha):\n",
    "    fitness=0.0\n",
    "    hr=calculate_HR_l(u,path)\n",
    "    #print(type(hr))\n",
    "    #print(\"hr=\",hr)\n",
    "    ilbu=calculate_ILBU(path)\n",
    "    ilbf=1-ilbu\n",
    "    #print(\"ilbf=\",ilbf)\n",
    "    #print(\"ilbu=\",ilbu)\n",
    "    #print(type(ilbf))\n",
    "    fitness=pow(hr,alpha)*pow(ilbf,(1-alpha))\n",
    "    #print(\"fitness=\",fitness)\n",
    "    return fitness\n"
   ]
  },
  {
   "cell_type": "code",
   "execution_count": 69,
   "id": "d3202409",
   "metadata": {},
   "outputs": [],
   "source": [
    "def update_pheromon(u,all_path,alpha):\n",
    "    tuple_path=[]\n",
    "    fitness_list=[]\n",
    "    for i in range(len(all_path)):\n",
    "        l_ant=all_path[i]\n",
    "        fitness=calculate_fitness(u,l_ant,alpha)\n",
    "        fitness_list.append(fitness)\n",
    "        #print(\"all path=\",all_path)\n",
    "        l_ant=np.array(l_ant)\n",
    "        for i in range(len(l_ant)-1):\n",
    "            first=l_ant[i]\n",
    "            end=l_ant[i+1]\n",
    "            tuple_path.append((first,end))\n",
    "    for edge in tuple_path:\n",
    "        idx=[idx for idx, tup in enumerate(tuple_path) if tup == edge]\n",
    "        #print(\"edge\",edge,\"=\",idx)\n",
    "        sum_fit=0\n",
    "        for i in idx:\n",
    "            pi=int(i/10)\n",
    "            sum_fit=sum_fit+fitness_list[pi-1]\n",
    "        ph=pheromon_matrix[edge[0]][edge[1]]\n",
    "        #print(\"average fitness fo edge \", edge,\" = \",sum_fit/len(idx),\", ph=\",ph)\n",
    "        pheromon_matrix[first][end]=ph+(sum_fit/len(idx))\n",
    "        #print(\"pheromon_matrix \",edge[0],edge[1],\" = \", pheromon_matrix[edge[0]][edge[1]])\n",
    "update_pheromon(1,all_ant_solution,0.3)    \n"
   ]
  },
  {
   "cell_type": "code",
   "execution_count": 62,
   "id": "a5cb02e4",
   "metadata": {},
   "outputs": [
    {
     "name": "stdout",
     "output_type": "stream",
     "text": [
      "[[ 0.   0.   0.  ...  0.   0.   0. ]\n",
      " [ 0.   0.   0.  ...  0.   0.   0. ]\n",
      " [ 0.   0.   0.  ...  0.   0.   0. ]\n",
      " ...\n",
      " [ 0.   0.   0.  ...  0.   0.   0. ]\n",
      " [ 0.   0.   0.  ...  0.   0.   0. ]\n",
      " [ 0.   0.   0.  ...  0.   0.  -0.8]]\n"
     ]
    }
   ],
   "source": [
    "def evaporate_pheromon():\n",
    "    x=pheromon_matrix*0.8\n",
    "    return x\n",
    "    \n",
    "pheromon_matrix=evaporate_pheromon()\n",
    "print(pheromon_matrix)"
   ]
  },
  {
   "cell_type": "code",
   "execution_count": 126,
   "id": "e581fbdc",
   "metadata": {},
   "outputs": [
    {
     "data": {
      "text/plain": [
       "[1684, 2692, 3161, 3675, 2436, 2574, 65, 429, 2083, 1962]"
      ]
     },
     "execution_count": 126,
     "metadata": {},
     "output_type": "execute_result"
    }
   ],
   "source": [
    "def get_final_path(k):\n",
    "    final_path = np.unravel_index(pheromon_matrix.argsort(axis=None), shape=pheromon_matrix.shape)\n",
    "    #final_path=np.nonzero(pheromon_matrix > 1)\n",
    "    #print(\"final path=\",len(final_path[0]))\n",
    "    final_solution=[]\n",
    "    i=len(final_path[0])-1\n",
    "    while i>len(final_path[0])-k:\n",
    "        f=final_path[0][i]\n",
    "        e=final_path[1][i]\n",
    "        if f not in final_solution:\n",
    "            final_solution.append(f)\n",
    "        if e not in final_solution:\n",
    "            final_solution.append(e)\n",
    "        i=i-1\n",
    "    #print(\"final_solution=\",final_solution)\n",
    "    final_solution=final_solution[:10]\n",
    "    #for i in range(len(final_path[0])):\n",
    "        #f=final_path[0][i]\n",
    "        #e=final_path[1][i]\n",
    "        #if f not in final_solution:\n",
    "            #final_solution.append(f)\n",
    "        #if e not in final_solution:\n",
    "            #final_solution.append(e)\n",
    "    return final_solution\n",
    "final_solution=get_final_path(10)\n",
    "final_solution\n"
   ]
  },
  {
   "cell_type": "code",
   "execution_count": 130,
   "id": "365e9947",
   "metadata": {},
   "outputs": [],
   "source": [
    "iteratins=['i2','i4','i6','i8','i10','i12','i14','i16','i18','i20']\n",
    "df_result = pd.DataFrame(columns=iteratins,index=['precision','recall','APT','Diversity'])"
   ]
  },
  {
   "cell_type": "code",
   "execution_count": 134,
   "id": "8ff295d0",
   "metadata": {},
   "outputs": [
    {
     "name": "stdout",
     "output_type": "stream",
     "text": [
      "apt= 0.71\n",
      "arp= 0.05987574\n",
      "diversity= 0.65\n",
      "f_precision= 0.6\n",
      "f_recall= 0.015\n"
     ]
    }
   ],
   "source": [
    "iteration=11\n",
    "users_list={}\n",
    "alpha=0.3\n",
    "all_precision=[]\n",
    "all_recall=[]\n",
    "  \n",
    "#df_result.columns=iteratins\n",
    "for target_user in user_ids:\n",
    "    #print(\"-----------------------------------------\")\n",
    "    #print(\"user id=\",target_user)\n",
    "    all_item_selected=get_selected_items(target_user)\n",
    "    numberOf_ant=len(all_item_selected)\n",
    "    #all_item_selected=list(movie_ids)\n",
    "    pheromon_matrix= initial_pheromon(all_item_selected)\n",
    "    max_ph=np.max(pheromon_matrix)\n",
    "    for i in range(iteration):\n",
    "        #print(\"iteration \",i)\n",
    "        all_ant_solution=[]\n",
    "        for ant in range(numberOf_ant):\n",
    "            #print(\"ant\",ant)\n",
    "            selected_items=all_item_selected[:]\n",
    "            l=move_ant(pheromon_matrix,selected_items,10,ant)\n",
    "            all_ant_solution.append(l)\n",
    "        update_pheromon(target_user,all_ant_solution,alpha)\n",
    "        pheromon_matrix=evaporate_pheromon()\n",
    "    f_l=get_final_path(15)\n",
    "    users_list[target_user]=f_l\n",
    "    precision= calculate_precision(f_l,target_user)\n",
    "    all_precision.append(precision)\n",
    "    rec=calculate_recall(f_l,target_user)\n",
    "    all_recall.append(rec)\n",
    "    #print(\"recall=\",rec)\n",
    "    #print(\"precision=\",precision)\n",
    "    f1=f1_score(precision,rec)\n",
    "    #print(\"f1 score=\",f1)\n",
    "all_list=users_list.values()\n",
    "apt=calculate_APLT(all_list)\n",
    "arp=calculate_ARP(all_list)\n",
    "diversity=claculate_diversity(all_list)\n",
    "print(\"apt=\",apt)\n",
    "print(\"arp=\",arp)\n",
    "print(\"diversity=\",diversity)\n",
    "f_precision=sum(all_precision)/len(all_precision)\n",
    "f_recall=sum(all_recall)/len(all_recall)\n",
    "print(\"f_precision=\",f_precision)\n",
    "print(\"f_recall=\",f_recall)\n",
    "########################################\n",
    "df_result.loc['precision','i11']=f_precision\n",
    "df_result.loc['recall','i11']=f_recall\n",
    "df_result.loc['Diversity','i11']=diversity\n",
    "df_result.loc['APT','i11']=apt\n",
    "\n",
    "savetxt('df_result.csv', df_result, delimiter=',')\n",
    "# save to npy file\n",
    "save('df_result.npy', df_result)\n"
   ]
  },
  {
   "cell_type": "code",
   "execution_count": null,
   "id": "5406db95",
   "metadata": {},
   "outputs": [],
   "source": []
  }
 ],
 "metadata": {
  "kernelspec": {
   "display_name": "Python 3 (ipykernel)",
   "language": "python",
   "name": "python3"
  },
  "language_info": {
   "codemirror_mode": {
    "name": "ipython",
    "version": 3
   },
   "file_extension": ".py",
   "mimetype": "text/x-python",
   "name": "python",
   "nbconvert_exporter": "python",
   "pygments_lexer": "ipython3",
   "version": "3.9.7"
  }
 },
 "nbformat": 4,
 "nbformat_minor": 5
}
